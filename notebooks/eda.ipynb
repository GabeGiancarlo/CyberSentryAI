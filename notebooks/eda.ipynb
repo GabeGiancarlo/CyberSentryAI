# Exploratory Data Analysis for CyberSentryAI
import pandas as pd

# Load dataset
data = pd.read_csv('../data/cicids2017.csv')
print(data.head())
print(data.describe())
