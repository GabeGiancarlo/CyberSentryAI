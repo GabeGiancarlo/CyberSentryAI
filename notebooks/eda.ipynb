# Exploratory Data Analysis for CyberSentryAI
import pandas as pd

# Load dataset
data = pd.read_csv('../data/cicids2017.csv')
print(data.head())
print(data.describe())

{
"cells": [
{
"cell_type": "code",
"execution_count": null,
"metadata": {},
"outputs": [],
"source": [
"import pandas as pd\n",
"import matplotlib.pyplot as plt\n",
"import seaborn as sns\n",
"\n",
"# Load the datasets\n",
"iotid20 = pd.read_csv('../data/iotid20.csv')\n",
"cicids2017 = pd.read_csv('../data/cicids2017.csv')\n",
"\n",
"# Display basic info\n",
"print("IoTID20 Info:")\n",
"print(iotid20.info())\n",
"print("\nCICIDS2017 Info:")\n",
"print(cicids2017.info())\n",
"\n",
"# Label distribution\n",
"print("\nIoTID20 Label Distribution:")\n",
"print(iotid20['label'].value_counts())\n",
"print("\nCICIDS2017 Label Distribution:")\n",
"print(cicids2017['Label'].value_counts())\n",
"\n",
"# Visualize label distribution\n",
"plt.figure(figsize=(12, 5))\n",
"plt.subplot(1, 2, 1)\n",
"iotid20['label'].value_counts().plot(kind='bar', title='IoTID20 Label Distribution')\n",
"plt.subplot(1, 2, 2)\n",
"cicids2017['Label'].value_counts().plot(kind='bar', title='CICIDS2017 Label Distribution')\n",
"plt.tight_layout()\n",
"plt.show()\n",
"\n",
"# Basic statistics for numerical features\n",
"print("\nIoTID20 Numerical Features Stats:")\n",
"print(iotid20.describe())\n",
"print("\nCICIDS2017 Numerical Features Stats:")\n",
"print(cicids2017.describe())\n",
"\n",
"# Correlation heatmap for CICIDS2017 (since it has more features)\n",
"plt.figure(figsize=(10, 8))\n",
"sns.heatmap(cicids2017.select_dtypes(include=['float64', 'int64']).corr(), cmap='coolwarm', center=0)\n",
"plt.title('CICIDS2017 Feature Correlation')\n",
"plt.show()"
]
}
],
"metadata": {
"kernelspec": {
"display_name": "Python 3",
"language": "python",
"name": "python3"
},
"language_info": {
"codemirror_mode": {
"name": "ipython",
"version": 3
},
"file_extension": ".py",
"mimetype": "text/x-python",
"name": "python",
"nbconvert_exporter": "python",
"pygments_lexer": "ipython3",
"version": "3.9.6"
}
},
"nbformat": 4,
"nbformat_minor": 2
}
